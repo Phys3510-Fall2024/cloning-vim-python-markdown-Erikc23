{
 "cells": [
  {
   "cell_type": "markdown",
   "id": "620b56a9-1c8a-4e28-9c22-9862b9445529",
   "metadata": {},
   "source": [
    "## Jupyter practice"
   ]
  },
  {
   "cell_type": "markdown",
   "id": "418de15b-d76f-495d-86ca-b34d83601a76",
   "metadata": {},
   "source": [
    "# ***Markdown cell***"
   ]
  },
  {
   "cell_type": "code",
   "execution_count": 3,
   "id": "99a0a318-2d9c-403c-a7c7-f261f867f4e4",
   "metadata": {},
   "outputs": [],
   "source": [
    "#Code cell"
   ]
  },
  {
   "cell_type": "code",
   "execution_count": 4,
   "id": "7147fe31-6fa6-4ffc-9c1e-effa676985fb",
   "metadata": {},
   "outputs": [],
   "source": [
    "#Code cellb"
   ]
  },
  {
   "cell_type": "markdown",
   "id": "47bcf359-cf71-4361-b8c5-0cc4f17b2d55",
   "metadata": {},
   "source": [
    "$( \\frac{2}{9} )$"
   ]
  },
  {
   "cell_type": "markdown",
   "id": "ab4130c6-8cea-42b3-a406-2d86c8022c94",
   "metadata": {},
   "source": [
    "$( \\sqrt{25} = 5 )$"
   ]
  },
  {
   "cell_type": "markdown",
   "id": "c3965edf-63e7-44e4-a6cf-57d350beb43f",
   "metadata": {},
   "source": [
    "$( a_i^2 + b_j^2 = c_k^2 )$"
   ]
  }
 ],
 "metadata": {
  "kernelspec": {
   "display_name": "Python 3 (ipykernel)",
   "language": "python",
   "name": "python3"
  },
  "language_info": {
   "codemirror_mode": {
    "name": "ipython",
    "version": 3
   },
   "file_extension": ".py",
   "mimetype": "text/x-python",
   "name": "python",
   "nbconvert_exporter": "python",
   "pygments_lexer": "ipython3",
   "version": "3.9.19"
  }
 },
 "nbformat": 4,
 "nbformat_minor": 5
}
